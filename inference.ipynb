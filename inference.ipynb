{
  "cells": [
    {
      "cell_type": "markdown",
      "metadata": {
        "id": "view-in-github",
        "colab_type": "text"
      },
      "source": [
        "<a href=\"https://colab.research.google.com/github/zzmtsvv/rl_task/blob/main/inference.ipynb\" target=\"_parent\"><img src=\"https://colab.research.google.com/assets/colab-badge.svg\" alt=\"Open In Colab\"/></a>"
      ]
    },
    {
      "cell_type": "code",
      "execution_count": null,
      "metadata": {
        "id": "_J4ec4zr7bDO"
      },
      "outputs": [],
      "source": [
        "#Include this at the top of your colab code\n",
        "import os\n",
        "if not os.path.exists('.mujoco_setup_complete'):\n",
        "  # Get the prereqs\n",
        "  !apt-get -qq update\n",
        "  !apt-get -qq install -y libosmesa6-dev libgl1-mesa-glx libglfw3 libgl1-mesa-dev libglew-dev patchelf\n",
        "  # Get Mujoco\n",
        "  !mkdir ~/.mujoco\n",
        "  !wget -q https://mujoco.org/download/mujoco210-linux-x86_64.tar.gz -O mujoco.tar.gz\n",
        "  !tar -zxf mujoco.tar.gz -C \"$HOME/.mujoco\"\n",
        "  !rm mujoco.tar.gz\n",
        "  # Add it to the actively loaded path and the bashrc path (these only do so much)\n",
        "  !echo 'export LD_LIBRARY_PATH=$LD_LIBRARY_PATH:$HOME/.mujoco/mujoco210/bin' >> ~/.bashrc \n",
        "  !echo 'export LD_PRELOAD=$LD_PRELOAD:/usr/lib/x86_64-linux-gnu/libGLEW.so' >> ~/.bashrc \n",
        "  # THE ANNOYING ONE, FORCE IT INTO LDCONFIG SO WE ACTUALLY GET ACCESS TO IT THIS SESSION\n",
        "  !echo \"/root/.mujoco/mujoco210/bin\" > /etc/ld.so.conf.d/mujoco_ld_lib_path.conf\n",
        "  !ldconfig\n",
        "  # Install Mujoco-py\n",
        "  !pip3 install -U 'mujoco-py<2.2,>=2.1'\n",
        "  # run once\n",
        "  !touch .mujoco_setup_complete\n",
        "\n",
        "try:\n",
        "  if _mujoco_run_once:\n",
        "    pass\n",
        "except NameError:\n",
        "  _mujoco_run_once = False\n",
        "if not _mujoco_run_once:\n",
        "  # Add it to the actively loaded path and the bashrc path (these only do so much)\n",
        "  try:\n",
        "    os.environ['LD_LIBRARY_PATH']=os.environ['LD_LIBRARY_PATH'] + ':/root/.mujoco/mujoco210/bin'\n",
        "    os.environ['LD_LIBRARY_PATH']=os.environ['LD_LIBRARY_PATH'] + ':/usr/lib/nvidia'\n",
        "  except KeyError:\n",
        "    os.environ['LD_LIBRARY_PATH']='/root/.mujoco/mujoco210/bin'\n",
        "  try:\n",
        "    os.environ['LD_PRELOAD']=os.environ['LD_PRELOAD'] + ':/usr/lib/x86_64-linux-gnu/libGLEW.so'\n",
        "  except KeyError:\n",
        "    os.environ['LD_PRELOAD']='/usr/lib/x86_64-linux-gnu/libGLEW.so'\n",
        "  # presetup so we don't see output on first env initialization\n",
        "  import mujoco_py\n",
        "  _mujoco_run_once = True"
      ]
    },
    {
      "cell_type": "code",
      "execution_count": null,
      "metadata": {
        "id": "TIzA7E6y7bDU"
      },
      "outputs": [],
      "source": [
        "!pip install git+https://github.com/tinkoff-ai/d4rl@master#egg=d4rl\n",
        "!git clone https://github.com/zzmtsvv/rl_task.git"
      ]
    },
    {
      "cell_type": "code",
      "execution_count": null,
      "metadata": {
        "id": "PFEOPiMW7bDU"
      },
      "outputs": [],
      "source": [
        "import torch\n",
        "from dataclasses import dataclass\n",
        "import os\n",
        "import numpy as np\n",
        "import gym\n",
        "import random\n",
        "from imageio import mimsave\n",
        "from tqdm import trange\n",
        "import d4rl\n",
        "from rl_task.spot.spot_ import SPOT\n",
        "from rl_task.adaptive_bc.redq_bc import RandomizedEnsembles_BC\n",
        "from rl_task.spot.vae import ConditionalVAE"
      ]
    },
    {
      "cell_type": "code",
      "execution_count": 13,
      "metadata": {
        "id": "NQ9yAOfo7bDV"
      },
      "outputs": [],
      "source": [
        "@dataclass\n",
        "class inference_config:\n",
        "    model_type: str = \"spot\"  # [ redq_bc spot ]\n",
        "    env: str = \"halfcheetah\"  # hopper halfcheetah walker2d\n",
        "    pretrain_dataset: str = \"medium\"  # [ medium mediun-replay ]\n",
        "    video_dir: str = \"video\"\n",
        "    save_video: bool = True\n",
        "    seed: int = 100\n",
        "    device_str: str = \"cuda\" if torch.cuda.is_available() else \"cpu\"\n",
        "    device = torch.device(device_str)\n",
        "\n",
        "cfg = inference_config()\n",
        "\n",
        "\n",
        "possible_variants = [\n",
        "    \"spot_halfcheetah_medium\",\n",
        "    \"spot_hopper_medium-replay\",\n",
        "    \"spot_hopper_medium\",\n",
        "    \"spot_walker2d_medium\",\n",
        "    \"redq_bc_halfcheetah_medium-replay\",\n",
        "    \"redq_bc_halfcheetah_medium\",\n",
        "    \"redq_bc_hopper_medium-replay\",\n",
        "    \"redq_bc_hopper_medium\",\n",
        "    \"redq_bc_walker2d_medium-replay\"\n",
        "]\n",
        "\n",
        "assert f\"{cfg.model_type}_{cfg.env}_{cfg.pretrain_dataset}\" in possible_variants, \"No ready model for a given combination\""
      ]
    },
    {
      "cell_type": "code",
      "source": [
        "!rm -rf video"
      ],
      "metadata": {
        "id": "-XjbnAoeAQmt"
      },
      "execution_count": null,
      "outputs": []
    },
    {
      "cell_type": "code",
      "source": [
        "def make_dir(dir_path):\n",
        "    try:\n",
        "        os.mkdir(dir_path)\n",
        "    except OSError:\n",
        "        pass\n",
        "    return dir_path\n",
        "\n",
        "\n",
        "make_dir(cfg.video_dir)"
      ],
      "metadata": {
        "id": "zzm0HJLU72pR"
      },
      "execution_count": null,
      "outputs": []
    },
    {
      "cell_type": "code",
      "execution_count": 6,
      "metadata": {
        "id": "yyGKQUHQ7bDV"
      },
      "outputs": [],
      "source": [
        "class VideoRecorder:\n",
        "    def __init__(self, dir_name, height=512, width=512, camera_id=0, fps=60):\n",
        "        self.dir_name = dir_name\n",
        "        self.height = height\n",
        "        self.width = width\n",
        "        self.camera_id = camera_id\n",
        "        self.fps = fps\n",
        "        self.frames = []\n",
        "\n",
        "    def init(self, enabled=True):\n",
        "        self.frames = []\n",
        "        self.enabled = self.dir_name is not None and enabled\n",
        "\n",
        "    def record(self, env: gym.Env):\n",
        "        if self.enabled:\n",
        "            frame = env.render(\n",
        "                mode='rgb_array',\n",
        "                height=self.height,\n",
        "                width=self.width,\n",
        "                # camera_id=self.camera_id\n",
        "            )\n",
        "            self.frames.append(frame)\n",
        "\n",
        "    def save(self, file_name):\n",
        "        if self.enabled:\n",
        "            path = os.path.join(self.dir_name, file_name)\n",
        "            mimsave(path, self.frames, fps=self.fps)"
      ]
    },
    {
      "cell_type": "code",
      "execution_count": 7,
      "metadata": {
        "id": "NA1s-AXT7bDW"
      },
      "outputs": [],
      "source": [
        "def eval_policy(cfg: inference_config,\n",
        "                iteration: int,\n",
        "                recorder: VideoRecorder,\n",
        "                policy,\n",
        "                env_name: str,\n",
        "                seed: int,\n",
        "                mean: np.ndarray,\n",
        "                std: np.ndarray,\n",
        "                logger=None,\n",
        "                eval_episodes: int = 10):\n",
        "    env = gym.make(env_name)\n",
        "    env.seed(seed + 100)\n",
        "\n",
        "    lengths, returns, last_rewards = [], [], []\n",
        "    average_reward = 0.0\n",
        "\n",
        "    for episode in trange(eval_episodes):\n",
        "        recorder.init(enabled=cfg.save_video)\n",
        "        state, done = env.reset(), False\n",
        "        \n",
        "        recorder.record(env)\n",
        "        steps = 0\n",
        "        episode_return = 0\n",
        "\n",
        "        while not done:\n",
        "            state = (np.array(state).reshape(1, -1) - mean) / std\n",
        "            action = policy.act(state)\n",
        "\n",
        "            state, reward, done, _ = env.step(action)\n",
        "            recorder.record(env)\n",
        "\n",
        "            average_reward += reward\n",
        "            episode_return += reward\n",
        "            steps += 1\n",
        "\n",
        "        lengths.append(steps)\n",
        "        returns.append(episode_return)\n",
        "        last_rewards.append(reward)\n",
        "        recorder.save(f\"evaluation_{iteration}_episode{episode}_return_{episode_return}.mp4\")\n",
        "    \n",
        "    average_reward /= eval_episodes\n",
        "    d4rl_score = env.get_normalized_score(average_reward)\n",
        "\n",
        "    if logger is not None:\n",
        "        logger.log('eval/lengths_mean', np.mean(lengths), iteration)\n",
        "        logger.log('eval/lengths_std', np.std(lengths), iteration)\n",
        "        logger.log('eval/returns_mean', np.mean(returns), iteration)\n",
        "        logger.log('eval/returns_std', np.std(returns), iteration)\n",
        "        logger.log('eval/d4rl_score', d4rl_score, iteration)\n",
        "    \n",
        "    return d4rl_score"
      ]
    },
    {
      "cell_type": "code",
      "execution_count": null,
      "metadata": {
        "id": "SApi-fXG7bDW"
      },
      "outputs": [],
      "source": [
        "folder_path = \"/content/rl_task/online_weights\"\n",
        "env = gym.make(f\"{cfg.env}-{cfg.pretrain_dataset}-v0\")\n",
        "random.seed(cfg.seed)\n",
        "np.random.seed(cfg.seed)\n",
        "torch.manual_seed(cfg.seed)\n",
        "\n",
        "env.seed(cfg.seed)\n",
        "env.action_space.seed(cfg.seed)\n",
        "env.observation_space.seed(cfg.seed)\n",
        "\n",
        "state_dim = env.observation_space.shape[0]\n",
        "action_dim = env.action_space.shape[0] \n",
        "max_action = float(env.action_space.high[0])\n",
        "\n",
        "\n",
        "if cfg.model_type == \"redq_bc\":\n",
        "    pattern = f\"{cfg.model_type}_{cfg.env}-{cfg.pretrain_dataset}-v0_42\"\n",
        "    filename = os.path.join(folder_path, pattern)\n",
        "\n",
        "    policy = RandomizedEnsembles_BC(state_dim, action_dim, max_action)\n",
        "    policy.load(filename)\n",
        "\n",
        "else:\n",
        "    policy = SPOT(ConditionalVAE(1, 2, 3), state_dim, action_dim, max_action)\n",
        "\n",
        "    model_dir = f\"{cfg.model_type}_{cfg.env}_{cfg.pretrain_dataset}\"\n",
        "    model_dir = os.path.join(folder_path, model_dir)\n",
        "    policy.load(model_dir)\n",
        "\n",
        "video_recorder = VideoRecorder(cfg.video_dir)"
      ]
    },
    {
      "cell_type": "code",
      "source": [
        "score = eval_policy(cfg,\n",
        "                    0,\n",
        "                    video_recorder,\n",
        "                    policy,\n",
        "                    f\"{cfg.env}-{cfg.pretrain_dataset}-v0\",\n",
        "                    cfg.seed,\n",
        "                    0,\n",
        "                    1)"
      ],
      "metadata": {
        "colab": {
          "base_uri": "https://localhost:8080/"
        },
        "id": "qQU79bZP8g9z",
        "outputId": "7ca5fa9a-4b6f-4c53-aa90-0bcba443ccdf"
      },
      "execution_count": 19,
      "outputs": [
        {
          "output_type": "stream",
          "name": "stderr",
          "text": [
            "100%|██████████| 10/10 [09:55<00:00, 59.51s/it]\n"
          ]
        }
      ]
    }
  ],
  "metadata": {
    "kernelspec": {
      "display_name": "base",
      "language": "python",
      "name": "python3"
    },
    "language_info": {
      "codemirror_mode": {
        "name": "ipython",
        "version": 3
      },
      "file_extension": ".py",
      "mimetype": "text/x-python",
      "name": "python",
      "nbconvert_exporter": "python",
      "pygments_lexer": "ipython3",
      "version": "3.9.15"
    },
    "orig_nbformat": 4,
    "colab": {
      "provenance": [],
      "include_colab_link": true
    },
    "gpuClass": "standard"
  },
  "nbformat": 4,
  "nbformat_minor": 0
}